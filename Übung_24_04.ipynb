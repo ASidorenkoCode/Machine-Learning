{
  "nbformat": 4,
  "nbformat_minor": 0,
  "metadata": {
    "colab": {
      "provenance": [],
      "authorship_tag": "ABX9TyNMrNPkR2TQiw5WWI0p2+zT",
      "include_colab_link": true
    },
    "kernelspec": {
      "name": "python3",
      "display_name": "Python 3"
    },
    "language_info": {
      "name": "python"
    }
  },
  "cells": [
    {
      "cell_type": "markdown",
      "metadata": {
        "id": "view-in-github",
        "colab_type": "text"
      },
      "source": [
        "<a href=\"https://colab.research.google.com/github/ASidorenkoCode/Machine-Learning/blob/main/%C3%9Cbung_24_04.ipynb\" target=\"_parent\"><img src=\"https://colab.research.google.com/assets/colab-badge.svg\" alt=\"Open In Colab\"/></a>"
      ]
    },
    {
      "cell_type": "code",
      "execution_count": null,
      "metadata": {
        "id": "ijBSjylY0aeY"
      },
      "outputs": [],
      "source": [
        "# Seite 4\n",
        "\n",
        "a = 4.3\n",
        "b = 2\n",
        "c = a + b + 0.7\n",
        "d = [a,2,7,c]\n",
        "e = list(\"Hello , World!\")\n",
        "f = e[2:4]\n",
        "g = e[4] == \"l\" or d[2] < 8"
      ]
    },
    {
      "cell_type": "code",
      "source": [
        "print(\"a ist eine \" + str(type(a)))\n",
        "print(\"b ist eine \" + str(type(b)))\n",
        "print(\"c ist eine \" + str(type(c)))\n",
        "print(\"d ist eine \" + str(type(d)))\n",
        "print(\"e ist eine \" + str(type(e)))\n",
        "print(\"f ist eine \" + str(type(f)))\n",
        "print(\"g ist eine \" + str(type(g)))"
      ],
      "metadata": {
        "colab": {
          "base_uri": "https://localhost:8080/"
        },
        "id": "bqSSy9PK1AsM",
        "outputId": "d8075e86-ad3c-443b-f3f8-aa1c62d4c7a8"
      },
      "execution_count": null,
      "outputs": [
        {
          "output_type": "stream",
          "name": "stdout",
          "text": [
            "a ist eine <class 'float'>\n",
            "b ist eine <class 'int'>\n",
            "c ist eine <class 'float'>\n",
            "d ist eine <class 'list'>\n",
            "e ist eine <class 'list'>\n",
            "f ist eine <class 'list'>\n",
            "g ist eine <class 'bool'>\n"
          ]
        }
      ]
    },
    {
      "cell_type": "code",
      "source": [
        "# Was ist der Wert von f?\n",
        "print(f)"
      ],
      "metadata": {
        "colab": {
          "base_uri": "https://localhost:8080/"
        },
        "id": "2APEqEr71DMk",
        "outputId": "29fb959b-2bd2-4690-88dc-a132f2713516"
      },
      "execution_count": null,
      "outputs": [
        {
          "output_type": "stream",
          "name": "stdout",
          "text": [
            "['l', 'l']\n"
          ]
        }
      ]
    },
    {
      "cell_type": "code",
      "source": [
        "# Was ist der Wert von g?\n",
        "print(g)"
      ],
      "metadata": {
        "colab": {
          "base_uri": "https://localhost:8080/"
        },
        "id": "fapERsuk2Aoo",
        "outputId": "6f8f26d4-db12-4fb1-a8cb-5261b0085236"
      },
      "execution_count": null,
      "outputs": [
        {
          "output_type": "stream",
          "name": "stdout",
          "text": [
            "True\n"
          ]
        }
      ]
    },
    {
      "cell_type": "code",
      "source": [
        "# Was ergibt len(e)?\n",
        "print(len(e))"
      ],
      "metadata": {
        "colab": {
          "base_uri": "https://localhost:8080/"
        },
        "id": "8Nj6xc1S2EHF",
        "outputId": "b54bc492-8fe1-4c57-b79a-7b474f41bfc9"
      },
      "execution_count": null,
      "outputs": [
        {
          "output_type": "stream",
          "name": "stdout",
          "text": [
            "14\n"
          ]
        }
      ]
    },
    {
      "cell_type": "markdown",
      "source": [
        "Gegeben sei: xs = [1, 2, 4, 5, 6, 7]\n",
        "\n",
        " 1 Definieren Sie xs in einem Python Notebook.\n",
        "\n",
        " 2 Extrahieren Sie die ersten beiden Elemente per Slicing.\n",
        "\n",
        " 3 Fügen Sie mit +-Operator die Zahl 3 an der dritten Stelle ein."
      ],
      "metadata": {
        "id": "ndt02s1K2nUz"
      }
    },
    {
      "cell_type": "code",
      "source": [
        "# 1\n",
        "xs = [1,2,4,5,6,7]\n",
        "print(\"-------\")\n",
        "# 2\n",
        "print(xs[:2])\n",
        "print(\"-------\")\n",
        "# 3\n",
        "print(xs[:2]+[3]+xs[2:])"
      ],
      "metadata": {
        "colab": {
          "base_uri": "https://localhost:8080/"
        },
        "id": "HsALYKVG2o_e",
        "outputId": "1fa22b49-c4b2-4384-dc7d-0574829a9cd8"
      },
      "execution_count": null,
      "outputs": [
        {
          "output_type": "stream",
          "name": "stdout",
          "text": [
            "-------\n",
            "[1, 2]\n",
            "-------\n",
            "[1, 2, 3, 4, 5, 6, 7]\n"
          ]
        }
      ]
    },
    {
      "cell_type": "markdown",
      "source": [
        "Gegeben: Liste von Zahlen\n",
        " [1.4, 2.3, 8.3, 2.3, 7.4, 5.6, 6.9, 7.2]\n",
        "\n",
        " 1 Definieren Sie die Liste in einer Variable.\n",
        "\n",
        " 2 Schreiben Sie eine Funktion avg, die den Mittelwert berechnet.\n",
        "\n",
        " 3 Nutzen Sie avg, um das arithmetische Mittel auszugeben."
      ],
      "metadata": {
        "id": "qAcD7nBH3R1y"
      }
    },
    {
      "cell_type": "code",
      "source": [
        "# 1\n",
        "xy = [1.4, 2.3, 8.3, 2.3, 7.4, 5.6, 6.9, 7.2]\n",
        "print(xy)\n",
        "print(\"-------\")\n",
        "\n",
        "# 2\n",
        "def avg(liste):\n",
        "  return sum(liste)/len(liste)\n",
        "\n",
        "# 3\n",
        "print(avg(xy))\n",
        "\n"
      ],
      "metadata": {
        "colab": {
          "base_uri": "https://localhost:8080/"
        },
        "id": "QEJgdssc3WgA",
        "outputId": "e7f272cf-06ea-40ba-a73d-dc6a802c7e90"
      },
      "execution_count": null,
      "outputs": [
        {
          "output_type": "stream",
          "name": "stdout",
          "text": [
            "[1.4, 2.3, 8.3, 2.3, 7.4, 5.6, 6.9, 7.2]\n",
            "-------\n",
            "5.175000000000001\n"
          ]
        }
      ]
    },
    {
      "cell_type": "markdown",
      "source": [
        "Gegeben: Liste von Strings\n",
        " [’ProductId’, ’ProductName’, ’ProductCategory’, ’Price:EUR’, ’Price:USD’,\n",
        " ’Price:DKK’, ’Price:PLN’]\n",
        "\n",
        " 1 Definieren Sie die Liste als alle_spalten.\n",
        "\n",
        " 2 Schreiben Sie eine Funktion zur Filterung von ProductId und Price:-Spalten.\n",
        "\n",
        " 3 Verwenden Sie str.replace, um Price: zu entfernen.\n",
        "\n",
        " 4 Entfernen Sie das letzte Element aus der Liste."
      ],
      "metadata": {
        "id": "h64zyy8W5f1M"
      }
    },
    {
      "cell_type": "code",
      "source": [
        "# 1\n",
        "alle_spalten = ['ProductId', 'ProductName', 'ProductCategory', 'Price:EUR', 'Price:USD', 'Price:DKK', 'Price:PLN']\n",
        "\n",
        "# 2\n",
        "def filter_spalten(spalten):\n",
        "    return [spalte for spalte in spalten if spalte == 'ProductId' or spalte.startswith('Price:')]\n",
        "\n",
        "# 3\n",
        "def bereinige_spalten(spalten):\n",
        "    return [spalte.replace('Price:', '') if spalte.startswith('Price:') else spalte for spalte in spalten]\n",
        "\n",
        "gefilterte_spalten = filter_spalten(alle_spalten)\n",
        "print(\"Gefilterte Spalten:\", gefilterte_spalten)\n",
        "\n",
        "bereinigte_spalten = bereinige_spalten(gefilterte_spalten)\n",
        "print(\"Bereinigte Spalten:\", bereinigte_spalten)\n",
        "\n",
        "# 4\n",
        "bereinigte_spalten.pop()\n",
        "print(\"Liste nach Entfernung des letzten Elements:\", bereinigte_spalten)"
      ],
      "metadata": {
        "colab": {
          "base_uri": "https://localhost:8080/"
        },
        "id": "nvHYWb4M5iOI",
        "outputId": "d052f8fd-e0b3-4500-e901-873e4df4f306"
      },
      "execution_count": null,
      "outputs": [
        {
          "output_type": "stream",
          "name": "stdout",
          "text": [
            "Gefilterte Spalten: ['ProductId', 'Price:EUR', 'Price:USD', 'Price:DKK', 'Price:PLN']\n",
            "Bereinigte Spalten: ['ProductId', 'EUR', 'USD', 'DKK', 'PLN']\n",
            "Liste nach Entfernung des letzten Elements: ['ProductId', 'EUR', 'USD', 'DKK']\n"
          ]
        }
      ]
    },
    {
      "cell_type": "markdown",
      "source": [
        "Gegeben:\n",
        "\n",
        " countries = [’DE’, ’NL’, ’AT’, ’CH’, ’PL’]\n",
        "\n",
        " sales = [1000000, 500000, 750000, 400000, 175000]\n",
        "\n",
        " 1 Erstellen Sie eine Liste von 2-Tupeln mit zip.\n",
        "\n",
        " 2 Erweitern Sie zu 3-Tupeln mit dem relativen Anteil am Gesamtumsatz.\n",
        "\n",
        " Beispiel:\n",
        " [(’DE’, 1000000, 0.354), (’NL’, 500000, 0.177), ...]"
      ],
      "metadata": {
        "id": "dfIR5yaw8Hn2"
      }
    },
    {
      "cell_type": "code",
      "source": [
        "# 1\n",
        "countries = ['DE', 'NL', 'AT', 'CH', 'PL']\n",
        "sales = [1000000, 500000, 750000, 400000, 175000]\n",
        "print(\"Liste von 2-Tuplen mit zip:\", list(zip(countries, sales)))\n",
        "\n",
        "# 2\n",
        "umsatz = sum(sales)\n",
        "print(\"Liste von 3-Tupeln mit relativen Anteil an GesUmsatz:\", list(zip(countries, sales, [round(sale / umsatz, 3) for sale in sales])))\n"
      ],
      "metadata": {
        "colab": {
          "base_uri": "https://localhost:8080/"
        },
        "id": "qiH7jQYR8KZi",
        "outputId": "52e67201-eb98-4ef0-f5cc-333a8f58bde1"
      },
      "execution_count": null,
      "outputs": [
        {
          "output_type": "stream",
          "name": "stdout",
          "text": [
            "Liste von 2-Tuplen mit zip: [('DE', 1000000), ('NL', 500000), ('AT', 750000), ('CH', 400000), ('PL', 175000)]\n",
            "Liste von 3-Tupeln mit relativen Anteil an GesUmsatz: [('DE', 1000000, 0.354), ('NL', 500000, 0.177), ('AT', 750000, 0.265), ('CH', 400000, 0.142), ('PL', 175000, 0.062)]\n"
          ]
        }
      ]
    }
  ]
}